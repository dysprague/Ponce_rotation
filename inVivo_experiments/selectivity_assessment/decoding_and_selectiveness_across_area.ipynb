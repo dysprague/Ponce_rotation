{
 "cells": [
  {
   "cell_type": "code",
   "execution_count": 1,
   "metadata": {},
   "outputs": [],
   "source": [
    "import os\n",
    "import sys\n",
    "sys.path.append(r\"C:\\Users\\Alireza\\Documents\\Git\\Cosine-Project\")\n",
    "from core.utils.image_analysis import *\n",
    "from core.utils.basic_functions import *\n",
    "import time\n",
    "import numpy as np\n",
    "import pandas as pd\n",
    "import matplotlib.pyplot as plt\n",
    "import seaborn as sns\n",
    "import torch\n",
    "import re\n",
    "import mat73\n",
    "from torchvision.transforms import ToPILImage, PILToTensor, ToTensor\n",
    "import matplotlib.image as mpimg\n",
    "from PIL import Image\n",
    "from scipy import stats, ndimage\n",
    "from torchvision.utils import make_grid\n",
    "from datetime import datetime, timedelta\n"
   ]
  },
  {
   "cell_type": "code",
   "execution_count": 2,
   "metadata": {},
   "outputs": [],
   "source": [
    "data_root = r\"C:\\Users\\Alireza\\OneDrive - Harvard University\\Documents\\cosine_preprocess_data\"\n",
    "\n",
    "\n",
    "animal_name = \"Caos\"\n",
    "server_init = r\"N:\\PonceLab\"\n",
    "save_root = os.path.join(r\"C:\\Users\\Alireza\\OneDrive - Harvard University\\Documents\\coisne_results\", f'fingerprint_exp_{animal_name}')\n",
    "os.makedirs(save_root, exist_ok=True)\n",
    "\n",
    "# Define the paths to the data\n",
    "select_exp_path = os.path.join(data_root, \"selectivity\", f\"select_fingerprint_{animal_name}\")\n",
    "# List .mat files in each directory\n",
    "select_exp_files = list_mat_files(select_exp_path)\n"
   ]
  },
  {
   "cell_type": "code",
   "execution_count": null,
   "metadata": {},
   "outputs": [],
   "source": [
    "# print all unique images unique_nam"
   ]
  },
  {
   "cell_type": "code",
   "execution_count": 3,
   "metadata": {},
   "outputs": [],
   "source": [
    "sei = 2\n",
    "select_data = load_mat_data(os.path.join(select_exp_path, select_exp_files[sei]))\n",
    "# in the select_data[.all_imgased_name'] we have big lest of nonuinqe name, I want a id for each unique name to eah indec of the list\n",
    "unique_names = np.unique(select_data['all_images_name'])\n",
    "name2id = dict(zip(unique_names, range(len(unique_names))))\n",
    "select_data['all_img_ids'] = np.array([name2id[name] for name in select_data['all_trials_image']])\n",
    "# if the name of the image have the one one of the following words, assign it to the corresponding category\n",
    "# kitchen, elephant, monkey,anvil, birdhouse, pumpkin, hay, silverfish, extinguisher. \n",
    "# otherwise assign it to the category 'other'\n",
    "categories = ['kitchen', 'elephant', 'monkey', 'anvil', 'birdhouse', 'pumpkin', 'hay', 'silverfish', 'extinguisher']\n",
    "category2id = {}\n",
    "for cat in categories:\n",
    "    category2id[cat] = len(category2id)\n",
    "category2id['other'] = len(category2id)\n",
    "id2category = {v: k for k, v in category2id.items()}\n",
    "# the name of images are long but they contain the category name, so we can use this to assign the category. Then we need cheach which category name present in the image name or not. \n",
    "# however, if it not present in the image name, we assign it to the category 'other'\n",
    "select_data['all_img_category'] = np.array([ np.array([cat in name for cat in categories]).argmax() if any([cat in name for cat in categories]) else category2id['other'] for name in select_data['all_trials_image']])\n",
    "\n",
    "# let make the images labels vector (y) and the coresponding responce of each neurons that gonna shape num_of_images * unm_of_neurons matrix (X);\n",
    "# for the all the images that fall in one category except the 'other' category. the responce is stored in the 'evoke_resp' field of the select_data\n",
    "indexes_filter = select_data['all_img_category'] != category2id['other']\n",
    "images_category_labels_y = select_data['all_img_category'][indexes_filter]\n",
    "images_category_resp = select_data['evoke_resp'][:, indexes_filter]\n",
    "# let traspsoe the responce matrix to have the shape of num_of_images * num_of_neurons\n",
    "images_category_resp_X = images_category_resp.T\n",
    "## \n",
    "# now let get the mask for the neurons are, which can be featch from the select_data['spikeID'] \n",
    "# and we should following this:\n",
    "if animal_name == 'Caos':\n",
    "    v1_border = 32\n",
    "    v4_border = 64\n",
    "    it_border = 96\n",
    "elif animal_name == 'Diablito':\n",
    "    v1_border = 16\n",
    "    v4_border = 32\n",
    "    it_border = 64\n",
    "else:\n",
    "    raise ValueError('The animal name is not valid')\n",
    "# the mask for the neurons in the V1, V4, and IT\n",
    "v1_mask = select_data['spikeID'] < v1_border\n",
    "v4_mask = (select_data['spikeID'] >= v1_border) & (select_data['spikeID'] < v4_border)\n",
    "it_mask = select_data['spikeID'] >= v4_border\n",
    "\n",
    "# let get the responce of the neurons in each area\n",
    "v1_category_resp_X = images_category_resp_X[:, v1_mask]\n",
    "v4_category_resp_X = images_category_resp_X[:, v4_mask]\n",
    "it_category_resp_X = images_category_resp_X[:, it_mask]\n",
    "\n",
    "# Calculate F-values and p-values for each neuron using one-way ANOVA\n",
    "def calculate_f_p_values(resp_matrix, labels):\n",
    "    f_values = np.zeros(resp_matrix.shape[1])\n",
    "    p_values = np.zeros(resp_matrix.shape[1])\n",
    "    for i in range(resp_matrix.shape[1]):\n",
    "        f_values[i], p_values[i] = stats.f_oneway(*[resp_matrix[labels == category, i] for category in np.unique(labels)])\n",
    "    return f_values, p_values\n",
    "\n",
    "v1_f_values, v1_p_values = calculate_f_p_values(v1_category_resp_X, images_category_labels_y)\n",
    "v4_f_values, v4_p_values = calculate_f_p_values(v4_category_resp_X, images_category_labels_y)\n",
    "it_f_values, it_p_values = calculate_f_p_values(it_category_resp_X, images_category_labels_y)\n",
    "\n",
    "# let get decoding accuracy for the category labels using the responce of the 5, 10, 15, ... neurons in each area\n",
    "# using cross-validation with 5 folds (sshuffle=True) and svm classifier with linear kernel using the sklearn library\n",
    "\n",
    "# Calculate decoding accuracy using SVM with cross-validation\n",
    "from sklearn.svm import SVC\n",
    "from sklearn.model_selection import cross_val_score, StratifiedKFold\n",
    "\n",
    "\n",
    "def calculate_decoding_accuracy(resp_matrix, labels, step=5):\n",
    "    accuracies = []\n",
    "    skf = StratifiedKFold(n_splits=5, shuffle=True, random_state=42)\n",
    "    for num_neurons in range(step, resp_matrix.shape[1] + 1, step):\n",
    "        svc = SVC(kernel='linear')\n",
    "        scores = cross_val_score(svc, resp_matrix[:, :num_neurons], labels, cv=skf)\n",
    "        accuracies.append((num_neurons, scores.mean()))\n",
    "    return accuracies\n",
    "\n",
    "\n",
    "def calculate_decoding_accuracy(resp_matrix, labels, step=5, repeats=3):\n",
    "    accuracies = []\n",
    "    skf = StratifiedKFold(n_splits=5, shuffle=True, random_state=42)\n",
    "    num_neurons_range = range(step, resp_matrix.shape[1] + 1, step)\n",
    "    for num_neurons in num_neurons_range:\n",
    "        repeat_accuracies = []\n",
    "        for _ in range(repeats):\n",
    "            selected_neurons = np.random.choice(resp_matrix.shape[1], num_neurons, replace=False)\n",
    "            svc = SVC(kernel='linear')\n",
    "            scores = cross_val_score(svc, resp_matrix[:, selected_neurons], labels, cv=skf)\n",
    "            repeat_accuracies.append(scores.mean())\n",
    "        accuracies.append((num_neurons, np.mean(repeat_accuracies)))\n",
    "    return accuracies\n",
    "\n",
    "\n",
    "v1_accuracies = calculate_decoding_accuracy(v1_category_resp_X, images_category_labels_y)\n",
    "v4_accuracies = calculate_decoding_accuracy(v4_category_resp_X, images_category_labels_y)\n",
    "it_accuracies = calculate_decoding_accuracy(it_category_resp_X, images_category_labels_y)"
   ]
  },
  {
   "cell_type": "code",
   "execution_count": 6,
   "metadata": {},
   "outputs": [],
   "source": [
    "it_accuracies_flat = [acc[1] for acc in it_accuracies]\n",
    "v4_accuracies_flat = [acc[1] for acc in v4_accuracies]\n",
    "v1_accuracies_flat = [acc[1] for acc in v1_accuracies]\n",
    "num_neurons_range_v1 = [acc[0] for acc in v1_accuracies]\n",
    "num_neurons_range_v4 = [acc[0] for acc in v4_accuracies]\n",
    "num_neurons_range_it = [acc[0] for acc in it_accuracies]"
   ]
  },
  {
   "cell_type": "code",
   "execution_count": 11,
   "metadata": {},
   "outputs": [
    {
     "data": {
      "text/plain": [
       "9"
      ]
     },
     "execution_count": 11,
     "metadata": {},
     "output_type": "execute_result"
    }
   ],
   "source": [
    "len(np.unique(images_category_labels_y))"
   ]
  },
  {
   "cell_type": "code",
   "execution_count": 9,
   "metadata": {},
   "outputs": [
    {
     "data": {
      "text/plain": [
       "Text(0.5, 1.0, 'Decoding accuracy using SVM')"
      ]
     },
     "execution_count": 9,
     "metadata": {},
     "output_type": "execute_result"
    },
    {
     "data": {
      "image/png": "[encoded data removed]",
      "text/plain": [
       "<Figure size 400x300 with 1 Axes>"
      ]
     },
     "metadata": {},
     "output_type": "display_data"
    }
   ],
   "source": [
    "# let plot the results all in one figure\n",
    "plt.figure(figsize=(4, 3))\n",
    "plt.plot(num_neurons_range_v1, v1_accuracies_flat, label='V1')\n",
    "plt.plot(num_neurons_range_v4, v4_accuracies_flat, label='V4')\n",
    "plt.plot(num_neurons_range_it, it_accuracies_flat, label='IT')\n",
    "plt.xlabel('Number of neurons')\n",
    "plt.ylabel('Decoding accuracy')\n",
    "plt.ylim(0, .4)\n",
    "plt.xlim(0, 50)\n",
    "plt.legend()\n",
    "# add the cghance level line wich is 1/number_of_categories\n",
    "plt.axhline(1 / len(np.unique(images_category_labels_y)), color='black', linestyle='--')\n",
    "plt.title('Decoding accuracy using SVM')"
   ]
  }
 ],
 "metadata": {
  "kernelspec": {
   "display_name": "cosine-project",
   "language": "python",
   "name": "python3"
  },
  "language_info": {
   "codemirror_mode": {
    "name": "ipython",
    "version": 3
   },
   "file_extension": ".py",
   "mimetype": "text/x-python",
   "name": "python",
   "nbconvert_exporter": "python",
   "pygments_lexer": "ipython3",
   "version": "3.10.11"
  }
 },
 "nbformat": 4,
 "nbformat_minor": 2
}
