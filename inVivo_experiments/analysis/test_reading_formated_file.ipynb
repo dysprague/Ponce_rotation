{
 "cells": [
  {
   "cell_type": "code",
   "execution_count": 24,
   "metadata": {},
   "outputs": [
    {
     "name": "stderr",
     "output_type": "stream",
     "text": [
      "ERROR:root:ERROR: not a MATLAB datatype: <HDF5 dataset \"lfps\": shape (2120, 200, 128), type \"<f8\">, (float64)\n",
      "ERROR:root:ERROR: not a MATLAB datatype: <HDF5 dataset \"rasters\": shape (2120, 200, 128), type \"<f8\">, (float64)\n"
     ]
    }
   ],
   "source": [
    "import mat73\n",
    "import os\n",
    "data_root  = r\"C:\\Users\\Alireza\\Documents\\S\\Data-Ephys-MAT\"\n",
    "formated_data =mat73.loadmat(os.path.join(data_root,\"Caos-12122023-002_formatted.mat\"))\n"
   ]
  },
  {
   "cell_type": "code",
   "execution_count": 25,
   "metadata": {},
   "outputs": [],
   "source": [
    "\n",
    "import numpy as np, h5py \n",
    "f = h5py.File(os.path.join(data_root,\"Caos-12122023-002_formatted.mat\"),'r') "
   ]
  },
  {
   "cell_type": "code",
   "execution_count": 6,
   "metadata": {},
   "outputs": [],
   "source": [
    "data = f.get('Trials')"
   ]
  },
  {
   "cell_type": "code",
   "execution_count": 7,
   "metadata": {},
   "outputs": [
    {
     "data": {
      "text/plain": [
       "['Trials', 'lfps', 'meta', 'rasters']"
      ]
     },
     "execution_count": 7,
     "metadata": {},
     "output_type": "execute_result"
    }
   ],
   "source": [
    "# get all fields of the formated data structure\n",
    "fields = formated_data.keys()\n",
    "fields = list(fields)\n",
    "fields"
   ]
  },
  {
   "cell_type": "code",
   "execution_count": 34,
   "metadata": {},
   "outputs": [
    {
     "data": {
      "text/plain": [
       "dict_keys(['BlockChange', 'BlockCount', 'BlockOrder', 'BlocksPlayed', 'BlocksSelected', 'ConditionsPlayed', 'ConditionsThisBlock', 'CurrentBlock', 'CurrentBlockCount', 'CurrentCondition', 'CurrentConditionInfo', 'CurrentConditionStimulusInfo', 'CurrentTrialNumber', 'CurrentTrialWithinBlock', 'DataFile', 'DiscardSkippedFrames', 'DrawTimeLine', 'Editable', 'HotkeyLocked', 'LastTrialAnalogData', 'LastTrialCodes', 'MarkSkippedFrames', 'NextBlock', 'NextCondition', 'Pause', 'Quit', 'ReactionTimes', 'SimulationMode', 'TaskInfo', 'TrialErrors', 'User'])"
      ]
     },
     "execution_count": 34,
     "metadata": {},
     "output_type": "execute_result"
    }
   ],
   "source": [
    "# get the Trial field\n",
    "trial = formated_data['Trials']\n",
    "trial.keys()\n",
    "TrialRecord = trial['TrialRecord']\n",
    "TrialRecord.keys()"
   ]
  },
  {
   "cell_type": "code",
   "execution_count": 23,
   "metadata": {},
   "outputs": [
    {
     "data": {
      "text/plain": [
       "<HDF5 object reference>"
      ]
     },
     "execution_count": 23,
     "metadata": {},
     "output_type": "execute_result"
    }
   ],
   "source": [
    "# get all mebers of the data HDF5 group\n",
    "members = data.keys()\n",
    "members\n",
    "imageName = data.get('imageName')\n",
    "# read for imageName HDF5 dataset\n",
    "imageName = np.array(imageName)\n",
    "imageName.shape\n",
    "# get the first image name\n",
    "imageName[0][0]"
   ]
  }
 ],
 "metadata": {
  "kernelspec": {
   "display_name": "cosine-project",
   "language": "python",
   "name": "python3"
  },
  "language_info": {
   "codemirror_mode": {
    "name": "ipython",
    "version": 3
   },
   "file_extension": ".py",
   "mimetype": "text/x-python",
   "name": "python",
   "nbconvert_exporter": "python",
   "pygments_lexer": "ipython3",
   "version": "3.10.11"
  }
 },
 "nbformat": 4,
 "nbformat_minor": 2
}
