{
 "cells": [
  {
   "cell_type": "code",
   "execution_count": 1,
   "metadata": {},
   "outputs": [],
   "source": [
    "import os\n",
    "import sys\n",
    "sys.path.append(r\"C:\\Users\\Alireza\\Documents\\Git\\Cosine-Project\")\n",
    "from core.utils.image_analysis import *\n",
    "from core.utils.basic_functions import *\n",
    "import time\n",
    "import numpy as np\n",
    "import pandas as pd\n",
    "import matplotlib.pyplot as plt\n",
    "import seaborn as sns\n",
    "import torch\n",
    "import re\n",
    "import mat73\n",
    "from torchvision.transforms import ToPILImage, PILToTensor, ToTensor\n",
    "import matplotlib.image as mpimg\n",
    "from PIL import Image\n",
    "from scipy import stats, ndimage\n",
    "from torchvision.utils import make_grid\n",
    "from datetime import datetime, timedelta\n"
   ]
  },
  {
   "cell_type": "code",
   "execution_count": 3,
   "metadata": {},
   "outputs": [],
   "source": [
    "data_root = r\"C:\\Users\\Alireza\\OneDrive - Harvard University\\Documents\\cosine_preprocess_data\"\n",
    "save_root = os.path.join(r\"C:\\Users\\Alireza\\OneDrive - Harvard University\\Documents\\coisne_results\", 'evolotion_video')\n",
    "os.makedirs(save_root, exist_ok=True)\n",
    "\n",
    "animal_name = \"Caos\"\n",
    "server_init = r\"N:\\PonceLab\"\n",
    "\n",
    "# Define the paths to the data\n",
    "recon_exp_path = os.path.join(data_root, 'recon', f\"recon_data_{animal_name}\")\n",
    "proto_exp_path = os.path.join(data_root, \"evolution\", f\"unit_proto_{animal_name}\")\n",
    "scram_exp_path = os.path.join(data_root, \"scram\", f\"unit_scram_{animal_name}\")\n",
    "select_exp_path = os.path.join(data_root, \"selectivity\", f\"select_160_{animal_name}\")\n",
    "# List .mat files in each directory\n",
    "recon_exp_files = list_mat_files(recon_exp_path)\n",
    "proto_exp_files = list_mat_files(proto_exp_path)\n",
    "scram_exp_files = list_mat_files(scram_exp_path)\n",
    "select_exp_files = list_mat_files(select_exp_path)"
   ]
  },
  {
   "cell_type": "code",
   "execution_count": 25,
   "metadata": {},
   "outputs": [],
   "source": [
    "exp_id = 94\n",
    "idx = 0\n",
    "for fn in proto_exp_files:\n",
    "    proto_exp_info = extract_info_proto_exp(fn)\n",
    "    if proto_exp_info['expId'] == exp_id:\n",
    "        idx = proto_exp_files.index(fn)\n",
    "        break\n"
   ]
  },
  {
   "cell_type": "code",
   "execution_count": 21,
   "metadata": {},
   "outputs": [
    {
     "data": {
      "text/plain": [
       "dict_keys(['all_img_name', 'best_img_selected', 'bk_resp', 'evoke_resp', 'evol_poss', 'evol_size', 'evoled_chan', 'evoled_unit', 'h_evol', 'init_img', 'max_resp', 'mean_img_selected', 'p_evol', 'spikeID', 'spike_fn', 'stimuli_path', 'top_mean_img_selected', 'unitID'])"
      ]
     },
     "execution_count": 21,
     "metadata": {},
     "output_type": "execute_result"
    }
   ],
   "source": [
    "proto_exp_data = mat73.loadmat(os.path.join(proto_exp_path, proto_exp_files[idx]))\n",
    "proto_exp_data.keys()"
   ]
  },
  {
   "cell_type": "code",
   "execution_count": 26,
   "metadata": {},
   "outputs": [
    {
     "data": {
      "text/plain": [
       "52"
      ]
     },
     "execution_count": 26,
     "metadata": {},
     "output_type": "execute_result"
    }
   ],
   "source": [
    "idx"
   ]
  }
 ],
 "metadata": {
  "kernelspec": {
   "display_name": "cosine-project",
   "language": "python",
   "name": "python3"
  },
  "language_info": {
   "codemirror_mode": {
    "name": "ipython",
    "version": 3
   },
   "file_extension": ".py",
   "mimetype": "text/x-python",
   "name": "python",
   "nbconvert_exporter": "python",
   "pygments_lexer": "ipython3",
   "version": "3.10.11"
  }
 },
 "nbformat": 4,
 "nbformat_minor": 2
}
