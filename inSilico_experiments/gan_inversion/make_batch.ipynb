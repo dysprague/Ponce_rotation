{
 "cells": [
  {
   "cell_type": "code",
   "execution_count": 3,
   "metadata": {},
   "outputs": [],
   "source": [
    "import os\n",
    "from PIL import Image\n",
    "import shutil\n",
    "\n",
    "def batch_images(input_folder, output_folder, batch_size):\n",
    "    # Create the output folder if it doesn't exist\n",
    "    if not os.path.exists(output_folder):\n",
    "        os.makedirs(output_folder)\n",
    "    \n",
    "    # List all files in the input folder\n",
    "    files = [f for f in os.listdir(input_folder) if os.path.isfile(os.path.join(input_folder, f))]\n",
    "    # Filter only image files (you can adjust the extensions as needed)\n",
    "    image_files = [f for f in files if f.lower().endswith(('.png', '.jpg', '.jpeg', '.tiff', '.bmp'))]\n",
    "\n",
    "    # Process each batch\n",
    "    total_batches = (len(image_files) + batch_size - 1) // batch_size  # calculate the total number of batches\n",
    "    for i in range(total_batches):\n",
    "        # Create a subfolder for each batch\n",
    "        batch_folder = os.path.join(output_folder, f'batch_{i+1}')\n",
    "        os.makedirs(batch_folder, exist_ok=True)\n",
    "\n",
    "        # Select a slice of image files for the current batch\n",
    "        start = i * batch_size\n",
    "        end = start + batch_size\n",
    "        batch_files = image_files[start:end]\n",
    "\n",
    "        # Copy each image in the current batch to the new batch folder\n",
    "        for image_file in batch_files:\n",
    "            source_path = os.path.join(input_folder, image_file)\n",
    "            destination_path = os.path.join(batch_folder, image_file)\n",
    "            shutil.copy(source_path, destination_path)"
   ]
  },
  {
   "cell_type": "code",
   "execution_count": 6,
   "metadata": {},
   "outputs": [],
   "source": [
    "input_folder = r'C:\\Users\\Alireza\\OneDrive - Harvard University\\Documents\\cosine_preprocess_data\\gan_inversion\\before_baching\\real_monkeys_vs_real_nonmonkeys\\counterpart'  # Change to your input folder path\n",
    "output_folder = r'C:\\Users\\Alireza\\OneDrive - Harvard University\\Documents\\cosine_preprocess_data\\gan_inversion\\non_monkey'  # Change to your output folder path\n",
    "batch_size = 15  # Change the batch size as needed\n",
    "\n",
    "batch_images(input_folder, output_folder, batch_size)"
   ]
  }
 ],
 "metadata": {
  "kernelspec": {
   "display_name": "cosine-project",
   "language": "python",
   "name": "python3"
  },
  "language_info": {
   "codemirror_mode": {
    "name": "ipython",
    "version": 3
   },
   "file_extension": ".py",
   "mimetype": "text/x-python",
   "name": "python",
   "nbconvert_exporter": "python",
   "pygments_lexer": "ipython3",
   "version": "3.10.11"
  }
 },
 "nbformat": 4,
 "nbformat_minor": 2
}
