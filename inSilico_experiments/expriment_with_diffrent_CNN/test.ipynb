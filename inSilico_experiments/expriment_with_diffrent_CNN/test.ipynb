{
 "cells": [
  {
   "cell_type": "code",
   "execution_count": 143,
   "metadata": {},
   "outputs": [],
   "source": [
    "import numpy as np\n",
    "\n",
    "def generate_poisson_spike_train(rate, T):\n",
    "    \"\"\"\n",
    "    Generates a Poisson spike train with a given firing rate.\n",
    "\n",
    "    Parameters:\n",
    "        rate (float): The firing rate (spikes per second).\n",
    "        T (float): Total time duration for the spike train (in seconds).\n",
    "\n",
    "    Returns:\n",
    "        spike_train (list): A list of spike times (in seconds).\n",
    "    \"\"\"\n",
    "    spike_train = []\n",
    "    t = 0\n",
    "\n",
    "    while t < T:\n",
    "        # Generate a random time interval until the next spike\n",
    "        delta_t = -np.log(np.random.rand()) / rate\n",
    "        t += delta_t\n",
    "\n",
    "        # Add the spike time to the spike train if it falls within the time window\n",
    "        if t < T:\n",
    "            spike_train.append(t)\n",
    "\n",
    "    return np.array(spike_train)\n",
    "\n",
    "# Example usage:\n",
    "firing_rate = 100  # Spikes per second\n",
    "duration = 10   # Seconds\n",
    "\n",
    "# Print the spike times\n",
    "\n"
   ]
  },
  {
   "cell_type": "code",
   "execution_count": 182,
   "metadata": {},
   "outputs": [
    {
     "name": "stdout",
     "output_type": "stream",
     "text": [
      "firing rate: 103.1\n"
     ]
    }
   ],
   "source": [
    "spike_train = generate_poisson_spike_train(firing_rate, duration)\n",
    "t = 10\n",
    "fr = np.sum(spike_train<t)/t\n",
    "print(\"firing rate:\", fr)\n"
   ]
  }
 ],
 "metadata": {
  "kernelspec": {
   "display_name": "cosine-project",
   "language": "python",
   "name": "python3"
  },
  "language_info": {
   "codemirror_mode": {
    "name": "ipython",
    "version": 3
   },
   "file_extension": ".py",
   "mimetype": "text/x-python",
   "name": "python",
   "nbconvert_exporter": "python",
   "pygments_lexer": "ipython3",
   "version": "3.10.11"
  },
  "orig_nbformat": 4
 },
 "nbformat": 4,
 "nbformat_minor": 2
}
