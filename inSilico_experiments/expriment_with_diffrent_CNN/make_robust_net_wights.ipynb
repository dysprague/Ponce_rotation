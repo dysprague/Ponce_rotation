{
 "cells": [
  {
   "cell_type": "markdown",
   "metadata": {},
   "source": [
    "you can download the weights form here: https://github.com/MadryLab/robustness and here https://github.com/microsoft/robust-models-transfer"
   ]
  },
  {
   "cell_type": "code",
   "execution_count": 1,
   "metadata": {},
   "outputs": [
    {
     "name": "stdout",
     "output_type": "stream",
     "text": [
      "file resnet50_l2_eps0.03.ckpt is purefied and saved as resnet50_l2_eps0.03.ckpt\n",
      "file resnet50_l2_eps0.1.ckpt is purefied and saved as resnet50_l2_eps0.1.ckpt\n",
      "file resnet50_l2_eps0.5.ckpt is purefied and saved as resnet50_l2_eps0.5.ckpt\n",
      "file resnet50_l2_eps3.ckpt is purefied and saved as resnet50_l2_eps3.ckpt\n",
      "file resnet50_linf_eps0.5.ckpt is purefied and saved as resnet50_linf_eps0.5.ckpt\n",
      "file resnet50_linf_eps1.0.ckpt is purefied and saved as resnet50_linf_eps1.0.ckpt\n",
      "file resnet50_linf_eps2.0.ckpt is purefied and saved as resnet50_linf_eps2.0.ckpt\n",
      "file resnet50_linf_eps4.0.ckpt is purefied and saved as resnet50_linf_eps4.0.ckpt\n",
      "file resnet50_linf_eps8.0.ckpt is purefied and saved as resnet50_linf_eps8.0.ckpt\n"
     ]
    }
   ],
   "source": [
    "import torch\n",
    "import os\n",
    "\n",
    "data_file_dir = r\"C:\\Users\\Alireza\\Documents\\models_data\\robust_resnet\"\n",
    "\n",
    "for file_name in os.listdir(data_file_dir):\n",
    "    # cheack wheter is already a pureifed or not = have \"pure\" in the name, we want file without \"pure\" in the name\n",
    "    if \"pure\" not in file_name:\n",
    "        # load the file\n",
    "        file_path = os.path.join(data_file_dir, file_name)\n",
    "        data = torch.load(file_path)\n",
    "        weight_dict = data['model']\n",
    "        # purefy the weights\n",
    "        new_weight_dict = dict() \n",
    "        for k, v in weight_dict.items():\n",
    "            # if k contain the string \"module.model.\" remove it\n",
    "            if \"module.model.\" in k:\n",
    "                # remove the string \"module.model.\" from the key\n",
    "                new_k = k.replace(\"module.model.\", \"\")\n",
    "                new_weight_dict[new_k] = v\n",
    "        # save the data\n",
    "        torch.save(new_weight_dict, os.path.join(data_file_dir, \"pure_\" + file_name.split(\".\")[0] + \".pt\"))\n",
    "        print(f\"file {file_name} is purefied and saved as {file_name}\")"
   ]
  },
  {
   "cell_type": "code",
   "execution_count": 3,
   "metadata": {},
   "outputs": [
    {
     "data": {
      "text/plain": [
       "'MNB-PONC-D21160'"
      ]
     },
     "execution_count": 3,
     "metadata": {},
     "output_type": "execute_result"
    }
   ],
   "source": [
    "os.environ[\"COMPUTERNAME\"]"
   ]
  }
 ],
 "metadata": {
  "kernelspec": {
   "display_name": "cosine-project",
   "language": "python",
   "name": "python3"
  },
  "language_info": {
   "codemirror_mode": {
    "name": "ipython",
    "version": 3
   },
   "file_extension": ".py",
   "mimetype": "text/x-python",
   "name": "python",
   "nbconvert_exporter": "python",
   "pygments_lexer": "ipython3",
   "version": "3.10.11"
  },
  "orig_nbformat": 4
 },
 "nbformat": 4,
 "nbformat_minor": 2
}
