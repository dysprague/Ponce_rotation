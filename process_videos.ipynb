{
 "cells": [
  {
   "cell_type": "code",
   "execution_count": 1,
   "metadata": {},
   "outputs": [],
   "source": [
    "import pytubefix\n",
    "import os\n",
    "\n",
    "os.environ[\"IMAGEIO_FFMPEG_EXE\"] = \"/opt/anaconda3/envs/ponce/lib/python3.13/site-packages/imageio_ffmpeg/binaries/ffmpeg\"\n",
    "\n",
    "import moviepy.editor as mp\n",
    "import pandas as pd"
   ]
  },
  {
   "cell_type": "code",
   "execution_count": 2,
   "metadata": {},
   "outputs": [
    {
     "name": "stdout",
     "output_type": "stream",
     "text": [
      "https://www.youtube.com/watch?v=ND92YNQv0TU macaque_running 54.0 56.0\n",
      "clipped\n",
      "Moviepy - Building video /Users/dysprague/Ponce_rotation/data/videos_cropped/macaque_running.mp4.\n",
      "Moviepy - Writing video /Users/dysprague/Ponce_rotation/data/videos_cropped/macaque_running.mp4\n",
      "\n"
     ]
    },
    {
     "name": "stderr",
     "output_type": "stream",
     "text": [
      "                                                             \r"
     ]
    },
    {
     "name": "stdout",
     "output_type": "stream",
     "text": [
      "Moviepy - Done !\n",
      "Moviepy - video ready /Users/dysprague/Ponce_rotation/data/videos_cropped/macaque_running.mp4\n",
      "saved\n",
      "Cropped video saved as macaque_running\n",
      "https://www.youtube.com/watch?v=mPrVMX8ACSE macaque_eating 62.0 64.0\n",
      "clipped\n",
      "Moviepy - Building video /Users/dysprague/Ponce_rotation/data/videos_cropped/macaque_eating.mp4.\n",
      "Moviepy - Writing video /Users/dysprague/Ponce_rotation/data/videos_cropped/macaque_eating.mp4\n",
      "\n"
     ]
    },
    {
     "name": "stderr",
     "output_type": "stream",
     "text": [
      "                                                             \r"
     ]
    },
    {
     "name": "stdout",
     "output_type": "stream",
     "text": [
      "Moviepy - Done !\n",
      "Moviepy - video ready /Users/dysprague/Ponce_rotation/data/videos_cropped/macaque_eating.mp4\n",
      "saved\n",
      "Cropped video saved as macaque_eating\n",
      "https://www.youtube.com/watch?v=IEq5flqW8FE monkey_grooming 240.0 242.0\n",
      "clipped\n",
      "Moviepy - Building video /Users/dysprague/Ponce_rotation/data/videos_cropped/monkey_grooming.mp4.\n",
      "Moviepy - Writing video /Users/dysprague/Ponce_rotation/data/videos_cropped/monkey_grooming.mp4\n",
      "\n"
     ]
    },
    {
     "name": "stderr",
     "output_type": "stream",
     "text": [
      "                                                             \r"
     ]
    },
    {
     "name": "stdout",
     "output_type": "stream",
     "text": [
      "Moviepy - Done !\n",
      "Moviepy - video ready /Users/dysprague/Ponce_rotation/data/videos_cropped/monkey_grooming.mp4\n",
      "saved\n",
      "Cropped video saved as monkey_grooming\n",
      "https://www.youtube.com/watch?v=641EOJCk8p8 monkey_fighting 143.0 145.0\n",
      "clipped\n",
      "Moviepy - Building video /Users/dysprague/Ponce_rotation/data/videos_cropped/monkey_fighting.mp4.\n",
      "Moviepy - Writing video /Users/dysprague/Ponce_rotation/data/videos_cropped/monkey_fighting.mp4\n",
      "\n"
     ]
    },
    {
     "name": "stderr",
     "output_type": "stream",
     "text": [
      "                                                             \r"
     ]
    },
    {
     "name": "stdout",
     "output_type": "stream",
     "text": [
      "Moviepy - Done !\n",
      "Moviepy - video ready /Users/dysprague/Ponce_rotation/data/videos_cropped/monkey_fighting.mp4\n",
      "saved\n",
      "Cropped video saved as monkey_fighting\n",
      "https://www.youtube.com/watch?v=7utuuiw7v0U cats_jumping 11.0 13.0\n",
      "clipped\n",
      "Moviepy - Building video /Users/dysprague/Ponce_rotation/data/videos_cropped/cats_jumping.mp4.\n",
      "Moviepy - Writing video /Users/dysprague/Ponce_rotation/data/videos_cropped/cats_jumping.mp4\n",
      "\n"
     ]
    },
    {
     "name": "stderr",
     "output_type": "stream",
     "text": [
      "                                                             \r"
     ]
    },
    {
     "name": "stdout",
     "output_type": "stream",
     "text": [
      "Moviepy - Done !\n",
      "Moviepy - video ready /Users/dysprague/Ponce_rotation/data/videos_cropped/cats_jumping.mp4\n",
      "saved\n",
      "Cropped video saved as cats_jumping\n",
      "https://www.youtube.com/watch?v=28FzV5OHqMU komodo 57.0 59.0\n",
      "clipped\n",
      "Moviepy - Building video /Users/dysprague/Ponce_rotation/data/videos_cropped/komodo.mp4.\n",
      "Moviepy - Writing video /Users/dysprague/Ponce_rotation/data/videos_cropped/komodo.mp4\n",
      "\n"
     ]
    },
    {
     "name": "stderr",
     "output_type": "stream",
     "text": [
      "                                                             \r"
     ]
    },
    {
     "name": "stdout",
     "output_type": "stream",
     "text": [
      "Moviepy - Done !\n",
      "Moviepy - video ready /Users/dysprague/Ponce_rotation/data/videos_cropped/komodo.mp4\n",
      "saved\n",
      "Cropped video saved as komodo\n",
      "https://www.youtube.com/watch?v=p6CFBpe8zws horses 28.0 30.0\n",
      "clipped\n",
      "Moviepy - Building video /Users/dysprague/Ponce_rotation/data/videos_cropped/horses.mp4.\n",
      "Moviepy - Writing video /Users/dysprague/Ponce_rotation/data/videos_cropped/horses.mp4\n",
      "\n"
     ]
    },
    {
     "name": "stderr",
     "output_type": "stream",
     "text": [
      "                                                              \r"
     ]
    },
    {
     "name": "stdout",
     "output_type": "stream",
     "text": [
      "Moviepy - Done !\n",
      "Moviepy - video ready /Users/dysprague/Ponce_rotation/data/videos_cropped/horses.mp4\n",
      "saved\n",
      "Cropped video saved as horses\n",
      "https://www.youtube.com/watch?v=xUmU_mVH_34 ambulance 40.0 42.0\n",
      "clipped\n",
      "Moviepy - Building video /Users/dysprague/Ponce_rotation/data/videos_cropped/ambulance.mp4.\n",
      "Moviepy - Writing video /Users/dysprague/Ponce_rotation/data/videos_cropped/ambulance.mp4\n",
      "\n"
     ]
    },
    {
     "name": "stderr",
     "output_type": "stream",
     "text": [
      "                                                               \r"
     ]
    },
    {
     "name": "stdout",
     "output_type": "stream",
     "text": [
      "Moviepy - Done !\n",
      "Moviepy - video ready /Users/dysprague/Ponce_rotation/data/videos_cropped/ambulance.mp4\n",
      "saved\n",
      "Cropped video saved as ambulance\n",
      "https://www.youtube.com/watch?v=_D6Zi9OlUVM fan 17.0 19.0\n",
      "clipped\n",
      "Moviepy - Building video /Users/dysprague/Ponce_rotation/data/videos_cropped/fan.mp4.\n",
      "Moviepy - Writing video /Users/dysprague/Ponce_rotation/data/videos_cropped/fan.mp4\n",
      "\n"
     ]
    },
    {
     "name": "stderr",
     "output_type": "stream",
     "text": [
      "                                                             \r"
     ]
    },
    {
     "name": "stdout",
     "output_type": "stream",
     "text": [
      "Moviepy - Done !\n",
      "Moviepy - video ready /Users/dysprague/Ponce_rotation/data/videos_cropped/fan.mp4\n",
      "saved\n",
      "Cropped video saved as fan\n",
      "https://www.youtube.com/watch?v=pjJBVjXhFRU soccer_ball 25.0 27.0\n",
      "clipped\n",
      "Moviepy - Building video /Users/dysprague/Ponce_rotation/data/videos_cropped/soccer_ball.mp4.\n",
      "Moviepy - Writing video /Users/dysprague/Ponce_rotation/data/videos_cropped/soccer_ball.mp4\n",
      "\n"
     ]
    },
    {
     "name": "stderr",
     "output_type": "stream",
     "text": [
      "                                                             \r"
     ]
    },
    {
     "name": "stdout",
     "output_type": "stream",
     "text": [
      "Moviepy - Done !\n",
      "Moviepy - video ready /Users/dysprague/Ponce_rotation/data/videos_cropped/soccer_ball.mp4\n",
      "saved\n",
      "Cropped video saved as soccer_ball\n",
      "nan nan nan nan\n",
      "Error processing video nan: unsupported operand type(s) for +: 'float' and 'str'\n",
      "nan nan nan nan\n",
      "Error processing video nan: unsupported operand type(s) for +: 'float' and 'str'\n",
      "nan nan nan nan\n",
      "Error processing video nan: unsupported operand type(s) for +: 'float' and 'str'\n",
      "nan nan nan nan\n",
      "Error processing video nan: unsupported operand type(s) for +: 'float' and 'str'\n"
     ]
    }
   ],
   "source": [
    "def download_youtube_videos(inp_csv_file, output_videos, resolution='720p', bitrate='8M'):\n",
    "\n",
    "    vids_df = pd.read_csv(inp_csv_file)\n",
    "    links, file_names = vids_df['video'].values, vids_df['video_name'].values\n",
    "    starts, ends = vids_df['start'].values, vids_df['end'].values\n",
    "\n",
    "    for link, file_name, start, end in zip(links, file_names, starts, ends):\n",
    "        try:\n",
    "            print(link, file_name, start, end)\n",
    "            youtube = pytubefix.YouTube(link)\n",
    "            video = youtube.streams.filter(res=resolution).first()\n",
    "            video.download(output_path = output_videos)\n",
    "            filename = video.default_filename\n",
    "\n",
    "            os.rename(os.path.join(output_videos,filename), os.path.join(output_videos, file_name+'.mp4'))\n",
    "\n",
    "        except Exception as e:\n",
    "            print(f\"Error processing video {link}: {e}\")\n",
    "\n",
    "def crop_videos(inp_csv_file, input_videos, output_cropped, bitrate= '8M'):\n",
    "    vids_df = pd.read_csv(inp_csv_file)\n",
    "    links, file_names = vids_df['video'].values, vids_df['video_name'].values\n",
    "    starts, ends = vids_df['start'].values, vids_df['end'].values\n",
    "\n",
    "    for link, file_name, start, end in zip(links, file_names, starts, ends):\n",
    "        try:\n",
    "            print(link, file_name, start, end)\n",
    "            video_clip = mp.VideoFileClip(os.path.join(input_videos,file_name +'.mp4')).subclip(start, end)\n",
    "            output_path = os.path.join(output_cropped, f\"{file_name}.mp4\")\n",
    "            print('clipped')\n",
    "            video_clip.write_videofile(output_path, fps=video_clip.fps, audio=False)\n",
    "            print('saved')\n",
    "            print(f\"Cropped video saved as {file_name}\")\n",
    "            video_clip.close()\n",
    "            #os.remove(filename)\n",
    "\n",
    "        except Exception as e:\n",
    "            print(f\"Error processing video {link}: {e}\")\n",
    "\n",
    "\n",
    "inp_csv_file = \"/Users/dysprague/Ponce_rotation/data/videos.csv\"\n",
    "output_video = \"/Users/dysprague/Ponce_rotation/data/videos\"\n",
    "output_cropped = \"/Users/dysprague/Ponce_rotation/data/videos_trimmed\"\n",
    "\n",
    "#download_youtube_videos(inp_csv_file, output_video)\n",
    "\n",
    "crop_videos(inp_csv_file, output_video, output_cropped)"
   ]
  },
  {
   "cell_type": "markdown",
   "metadata": {},
   "source": [
    "## Separate videos into component frames"
   ]
  },
  {
   "cell_type": "code",
   "execution_count": 4,
   "metadata": {},
   "outputs": [],
   "source": [
    "import cv2"
   ]
  },
  {
   "cell_type": "code",
   "execution_count": 8,
   "metadata": {},
   "outputs": [],
   "source": [
    "data_dir = '/Users/dysprague/Ponce_rotation/data'"
   ]
  },
  {
   "cell_type": "code",
   "execution_count": 9,
   "metadata": {},
   "outputs": [],
   "source": [
    "\n",
    "for file in os.listdir(os.path.join(data_dir, 'videos_trimmed')):\n",
    "    if not file[-4:] == '.mp4':\n",
    "        continue\n",
    "\n",
    "    frameNr = 0\n",
    "\n",
    "    capture = cv2.VideoCapture(os.path.join(data_dir, 'videos_trimmed', file))\n",
    " \n",
    "    while (True):\n",
    "    \n",
    "        success, frame = capture.read()\n",
    "\n",
    "        if not os.path.exists(os.path.join(data_dir, 'video_frames', file[:-4])):\n",
    "            os.makedirs(os.path.join(data_dir, 'video_frames', file[:-4]))\n",
    "    \n",
    "        if success:\n",
    "            cv2.imwrite(f'{data_dir}/video_frames/{file[:-4]}/frame_{frameNr}.jpg', frame)\n",
    "    \n",
    "        else:\n",
    "            break\n",
    "    \n",
    "        frameNr = frameNr+1\n",
    "    \n",
    "    capture.release()"
   ]
  },
  {
   "cell_type": "code",
   "execution_count": null,
   "metadata": {},
   "outputs": [],
   "source": []
  }
 ],
 "metadata": {
  "kernelspec": {
   "display_name": "ponce",
   "language": "python",
   "name": "python3"
  },
  "language_info": {
   "codemirror_mode": {
    "name": "ipython",
    "version": 3
   },
   "file_extension": ".py",
   "mimetype": "text/x-python",
   "name": "python",
   "nbconvert_exporter": "python",
   "pygments_lexer": "ipython3",
   "version": "3.13.0"
  }
 },
 "nbformat": 4,
 "nbformat_minor": 2
}
