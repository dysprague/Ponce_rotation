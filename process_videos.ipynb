{
 "cells": [
  {
   "cell_type": "code",
   "execution_count": 2,
   "metadata": {},
   "outputs": [],
   "source": [
    "#import pytubefix\n",
    "import os\n",
    "\n",
    "os.environ[\"IMAGEIO_FFMPEG_EXE\"] = \"/opt/anaconda3/envs/ponce/lib/python3.13/site-packages/imageio_ffmpeg/binaries/ffmpeg\"\n",
    "\n",
    "#import moviepy.editor as mp\n",
    "import pandas as pd\n",
    "from sklearn.decomposition import PCA\n",
    "import numpy as np\n",
    "import matplotlib.pyplot as plt"
   ]
  },
  {
   "cell_type": "code",
   "execution_count": 2,
   "metadata": {},
   "outputs": [
    {
     "name": "stdout",
     "output_type": "stream",
     "text": [
      "https://www.youtube.com/watch?v=ND92YNQv0TU macaque_running 54.0 56.0\n",
      "clipped\n",
      "Moviepy - Building video /Users/dysprague/Ponce_rotation/data/videos_cropped/macaque_running.mp4.\n",
      "Moviepy - Writing video /Users/dysprague/Ponce_rotation/data/videos_cropped/macaque_running.mp4\n",
      "\n"
     ]
    },
    {
     "name": "stderr",
     "output_type": "stream",
     "text": [
      "                                                             \r"
     ]
    },
    {
     "name": "stdout",
     "output_type": "stream",
     "text": [
      "Moviepy - Done !\n",
      "Moviepy - video ready /Users/dysprague/Ponce_rotation/data/videos_cropped/macaque_running.mp4\n",
      "saved\n",
      "Cropped video saved as macaque_running\n",
      "https://www.youtube.com/watch?v=mPrVMX8ACSE macaque_eating 62.0 64.0\n",
      "clipped\n",
      "Moviepy - Building video /Users/dysprague/Ponce_rotation/data/videos_cropped/macaque_eating.mp4.\n",
      "Moviepy - Writing video /Users/dysprague/Ponce_rotation/data/videos_cropped/macaque_eating.mp4\n",
      "\n"
     ]
    },
    {
     "name": "stderr",
     "output_type": "stream",
     "text": [
      "                                                             \r"
     ]
    },
    {
     "name": "stdout",
     "output_type": "stream",
     "text": [
      "Moviepy - Done !\n",
      "Moviepy - video ready /Users/dysprague/Ponce_rotation/data/videos_cropped/macaque_eating.mp4\n",
      "saved\n",
      "Cropped video saved as macaque_eating\n",
      "https://www.youtube.com/watch?v=IEq5flqW8FE monkey_grooming 240.0 242.0\n",
      "clipped\n",
      "Moviepy - Building video /Users/dysprague/Ponce_rotation/data/videos_cropped/monkey_grooming.mp4.\n",
      "Moviepy - Writing video /Users/dysprague/Ponce_rotation/data/videos_cropped/monkey_grooming.mp4\n",
      "\n"
     ]
    },
    {
     "name": "stderr",
     "output_type": "stream",
     "text": [
      "                                                             \r"
     ]
    },
    {
     "name": "stdout",
     "output_type": "stream",
     "text": [
      "Moviepy - Done !\n",
      "Moviepy - video ready /Users/dysprague/Ponce_rotation/data/videos_cropped/monkey_grooming.mp4\n",
      "saved\n",
      "Cropped video saved as monkey_grooming\n",
      "https://www.youtube.com/watch?v=641EOJCk8p8 monkey_fighting 143.0 145.0\n",
      "clipped\n",
      "Moviepy - Building video /Users/dysprague/Ponce_rotation/data/videos_cropped/monkey_fighting.mp4.\n",
      "Moviepy - Writing video /Users/dysprague/Ponce_rotation/data/videos_cropped/monkey_fighting.mp4\n",
      "\n"
     ]
    },
    {
     "name": "stderr",
     "output_type": "stream",
     "text": [
      "                                                             \r"
     ]
    },
    {
     "name": "stdout",
     "output_type": "stream",
     "text": [
      "Moviepy - Done !\n",
      "Moviepy - video ready /Users/dysprague/Ponce_rotation/data/videos_cropped/monkey_fighting.mp4\n",
      "saved\n",
      "Cropped video saved as monkey_fighting\n",
      "https://www.youtube.com/watch?v=7utuuiw7v0U cats_jumping 11.0 13.0\n",
      "clipped\n",
      "Moviepy - Building video /Users/dysprague/Ponce_rotation/data/videos_cropped/cats_jumping.mp4.\n",
      "Moviepy - Writing video /Users/dysprague/Ponce_rotation/data/videos_cropped/cats_jumping.mp4\n",
      "\n"
     ]
    },
    {
     "name": "stderr",
     "output_type": "stream",
     "text": [
      "                                                             \r"
     ]
    },
    {
     "name": "stdout",
     "output_type": "stream",
     "text": [
      "Moviepy - Done !\n",
      "Moviepy - video ready /Users/dysprague/Ponce_rotation/data/videos_cropped/cats_jumping.mp4\n",
      "saved\n",
      "Cropped video saved as cats_jumping\n",
      "https://www.youtube.com/watch?v=28FzV5OHqMU komodo 57.0 59.0\n",
      "clipped\n",
      "Moviepy - Building video /Users/dysprague/Ponce_rotation/data/videos_cropped/komodo.mp4.\n",
      "Moviepy - Writing video /Users/dysprague/Ponce_rotation/data/videos_cropped/komodo.mp4\n",
      "\n"
     ]
    },
    {
     "name": "stderr",
     "output_type": "stream",
     "text": [
      "                                                             \r"
     ]
    },
    {
     "name": "stdout",
     "output_type": "stream",
     "text": [
      "Moviepy - Done !\n",
      "Moviepy - video ready /Users/dysprague/Ponce_rotation/data/videos_cropped/komodo.mp4\n",
      "saved\n",
      "Cropped video saved as komodo\n",
      "https://www.youtube.com/watch?v=p6CFBpe8zws horses 28.0 30.0\n",
      "clipped\n",
      "Moviepy - Building video /Users/dysprague/Ponce_rotation/data/videos_cropped/horses.mp4.\n",
      "Moviepy - Writing video /Users/dysprague/Ponce_rotation/data/videos_cropped/horses.mp4\n",
      "\n"
     ]
    },
    {
     "name": "stderr",
     "output_type": "stream",
     "text": [
      "                                                              \r"
     ]
    },
    {
     "name": "stdout",
     "output_type": "stream",
     "text": [
      "Moviepy - Done !\n",
      "Moviepy - video ready /Users/dysprague/Ponce_rotation/data/videos_cropped/horses.mp4\n",
      "saved\n",
      "Cropped video saved as horses\n",
      "https://www.youtube.com/watch?v=xUmU_mVH_34 ambulance 40.0 42.0\n",
      "clipped\n",
      "Moviepy - Building video /Users/dysprague/Ponce_rotation/data/videos_cropped/ambulance.mp4.\n",
      "Moviepy - Writing video /Users/dysprague/Ponce_rotation/data/videos_cropped/ambulance.mp4\n",
      "\n"
     ]
    },
    {
     "name": "stderr",
     "output_type": "stream",
     "text": [
      "                                                               \r"
     ]
    },
    {
     "name": "stdout",
     "output_type": "stream",
     "text": [
      "Moviepy - Done !\n",
      "Moviepy - video ready /Users/dysprague/Ponce_rotation/data/videos_cropped/ambulance.mp4\n",
      "saved\n",
      "Cropped video saved as ambulance\n",
      "https://www.youtube.com/watch?v=_D6Zi9OlUVM fan 17.0 19.0\n",
      "clipped\n",
      "Moviepy - Building video /Users/dysprague/Ponce_rotation/data/videos_cropped/fan.mp4.\n",
      "Moviepy - Writing video /Users/dysprague/Ponce_rotation/data/videos_cropped/fan.mp4\n",
      "\n"
     ]
    },
    {
     "name": "stderr",
     "output_type": "stream",
     "text": [
      "                                                             \r"
     ]
    },
    {
     "name": "stdout",
     "output_type": "stream",
     "text": [
      "Moviepy - Done !\n",
      "Moviepy - video ready /Users/dysprague/Ponce_rotation/data/videos_cropped/fan.mp4\n",
      "saved\n",
      "Cropped video saved as fan\n",
      "https://www.youtube.com/watch?v=pjJBVjXhFRU soccer_ball 25.0 27.0\n",
      "clipped\n",
      "Moviepy - Building video /Users/dysprague/Ponce_rotation/data/videos_cropped/soccer_ball.mp4.\n",
      "Moviepy - Writing video /Users/dysprague/Ponce_rotation/data/videos_cropped/soccer_ball.mp4\n",
      "\n"
     ]
    },
    {
     "name": "stderr",
     "output_type": "stream",
     "text": [
      "                                                             \r"
     ]
    },
    {
     "name": "stdout",
     "output_type": "stream",
     "text": [
      "Moviepy - Done !\n",
      "Moviepy - video ready /Users/dysprague/Ponce_rotation/data/videos_cropped/soccer_ball.mp4\n",
      "saved\n",
      "Cropped video saved as soccer_ball\n",
      "nan nan nan nan\n",
      "Error processing video nan: unsupported operand type(s) for +: 'float' and 'str'\n",
      "nan nan nan nan\n",
      "Error processing video nan: unsupported operand type(s) for +: 'float' and 'str'\n",
      "nan nan nan nan\n",
      "Error processing video nan: unsupported operand type(s) for +: 'float' and 'str'\n",
      "nan nan nan nan\n",
      "Error processing video nan: unsupported operand type(s) for +: 'float' and 'str'\n"
     ]
    }
   ],
   "source": [
    "def download_youtube_videos(inp_csv_file, output_videos, resolution='720p', bitrate='8M'):\n",
    "\n",
    "    vids_df = pd.read_csv(inp_csv_file)\n",
    "    links, file_names = vids_df['video'].values, vids_df['video_name'].values\n",
    "    starts, ends = vids_df['start'].values, vids_df['end'].values\n",
    "\n",
    "    for link, file_name, start, end in zip(links, file_names, starts, ends):\n",
    "        try:\n",
    "            print(link, file_name, start, end)\n",
    "            youtube = pytubefix.YouTube(link)\n",
    "            video = youtube.streams.filter(res=resolution).first()\n",
    "            video.download(output_path = output_videos)\n",
    "            filename = video.default_filename\n",
    "\n",
    "            os.rename(os.path.join(output_videos,filename), os.path.join(output_videos, file_name+'.mp4'))\n",
    "\n",
    "        except Exception as e:\n",
    "            print(f\"Error processing video {link}: {e}\")\n",
    "\n",
    "def crop_videos(inp_csv_file, input_videos, output_cropped, bitrate= '8M'):\n",
    "    vids_df = pd.read_csv(inp_csv_file)\n",
    "    links, file_names = vids_df['video'].values, vids_df['video_name'].values\n",
    "    starts, ends = vids_df['start'].values, vids_df['end'].values\n",
    "\n",
    "    for link, file_name, start, end in zip(links, file_names, starts, ends):\n",
    "        try:\n",
    "            print(link, file_name, start, end)\n",
    "            video_clip = mp.VideoFileClip(os.path.join(input_videos,file_name +'.mp4')).subclip(start, end)\n",
    "            output_path = os.path.join(output_cropped, f\"{file_name}.mp4\")\n",
    "            print('clipped')\n",
    "            video_clip.write_videofile(output_path, fps=video_clip.fps, audio=False)\n",
    "            print('saved')\n",
    "            print(f\"Cropped video saved as {file_name}\")\n",
    "            video_clip.close()\n",
    "            #os.remove(filename)\n",
    "\n",
    "        except Exception as e:\n",
    "            print(f\"Error processing video {link}: {e}\")\n",
    "\n",
    "\n",
    "inp_csv_file = \"/Users/dysprague/Ponce_rotation/data/videos.csv\"\n",
    "output_video = \"/Users/dysprague/Ponce_rotation/data/videos\"\n",
    "output_cropped = \"/Users/dysprague/Ponce_rotation/data/videos_trimmed\"\n",
    "\n",
    "#download_youtube_videos(inp_csv_file, output_video)\n",
    "\n",
    "crop_videos(inp_csv_file, output_video, output_cropped)"
   ]
  },
  {
   "cell_type": "markdown",
   "metadata": {},
   "source": [
    "## Separate videos into component frames"
   ]
  },
  {
   "cell_type": "code",
   "execution_count": 5,
   "metadata": {},
   "outputs": [],
   "source": [
    "import cv2"
   ]
  },
  {
   "cell_type": "code",
   "execution_count": 4,
   "metadata": {},
   "outputs": [],
   "source": [
    "data_dir = '/Users/dysprague/Ponce_rotation/data'"
   ]
  },
  {
   "cell_type": "code",
   "execution_count": 9,
   "metadata": {},
   "outputs": [],
   "source": [
    "\n",
    "for file in os.listdir(os.path.join(data_dir, 'videos_trimmed')):\n",
    "    if not file[-4:] == '.mp4':\n",
    "        continue\n",
    "\n",
    "    frameNr = 0\n",
    "\n",
    "    capture = cv2.VideoCapture(os.path.join(data_dir, 'videos_trimmed', file))\n",
    " \n",
    "    while (True):\n",
    "    \n",
    "        success, frame = capture.read()\n",
    "\n",
    "        if not os.path.exists(os.path.join(data_dir, 'video_frames', file[:-4])):\n",
    "            os.makedirs(os.path.join(data_dir, 'video_frames', file[:-4]))\n",
    "    \n",
    "        if success:\n",
    "            cv2.imwrite(f'{data_dir}/video_frames/{file[:-4]}/frame_{frameNr}.jpg', frame)\n",
    "    \n",
    "        else:\n",
    "            break\n",
    "    \n",
    "        frameNr = frameNr+1\n",
    "    \n",
    "    capture.release()"
   ]
  },
  {
   "cell_type": "markdown",
   "metadata": {},
   "source": [
    "## Convert inverted frames back to videos"
   ]
  },
  {
   "cell_type": "code",
   "execution_count": 51,
   "metadata": {},
   "outputs": [],
   "source": [
    "import cv2\n",
    "import os\n",
    "\n",
    "for folder in os.listdir(os.path.join(data_dir, 'videos_random_gen')):\n",
    "    if folder == '.DS_Store':\n",
    "        continue\n",
    "    img_folder = os.path.join(data_dir, 'videos_random_gen', folder)\n",
    "    video_name = folder + '.mp4'\n",
    "\n",
    "    frames = int(len(os.listdir(img_folder))/2)\n",
    "\n",
    "    images = [f'frame_{i}_inv.png' for i in range(frames)]\n",
    "\n",
    "    #images = [img for img in os.listdir(img_folder) if img.endswith(\"inverted.png\")]\n",
    "    frame = cv2.imread(os.path.join(img_folder, images[0]))\n",
    "    height, width, layers = frame.shape\n",
    "\n",
    "    fourcc = cv2.VideoWriter_fourcc(*'mp4v')\n",
    "    video = cv2.VideoWriter(video_name, fourcc, len(images)/2, (width,height))\n",
    "\n",
    "    for image in images:\n",
    "        video.write(cv2.imread(os.path.join(img_folder, image)))\n",
    "\n",
    "    cv2.destroyAllWindows()\n",
    "    video.release()"
   ]
  },
  {
   "cell_type": "code",
   "execution_count": 7,
   "metadata": {},
   "outputs": [
    {
     "name": "stdout",
     "output_type": "stream",
     "text": [
      "['frame_0_inverted.png', 'frame_1_inverted.png', 'frame_2_inverted.png', 'frame_3_inverted.png', 'frame_4_inverted.png', 'frame_5_inverted.png', 'frame_6_inverted.png', 'frame_7_inverted.png', 'frame_8_inverted.png', 'frame_9_inverted.png', 'frame_10_inverted.png', 'frame_11_inverted.png', 'frame_12_inverted.png', 'frame_13_inverted.png', 'frame_14_inverted.png', 'frame_15_inverted.png', 'frame_16_inverted.png', 'frame_17_inverted.png', 'frame_18_inverted.png', 'frame_19_inverted.png', 'frame_20_inverted.png', 'frame_21_inverted.png', 'frame_22_inverted.png', 'frame_23_inverted.png', 'frame_24_inverted.png', 'frame_25_inverted.png', 'frame_26_inverted.png', 'frame_27_inverted.png', 'frame_28_inverted.png', 'frame_29_inverted.png', 'frame_30_inverted.png', 'frame_31_inverted.png', 'frame_32_inverted.png', 'frame_33_inverted.png', 'frame_34_inverted.png', 'frame_35_inverted.png', 'frame_36_inverted.png', 'frame_37_inverted.png', 'frame_38_inverted.png', 'frame_39_inverted.png', 'frame_40_inverted.png', 'frame_41_inverted.png', 'frame_42_inverted.png', 'frame_43_inverted.png', 'frame_44_inverted.png', 'frame_45_inverted.png', 'frame_46_inverted.png', 'frame_47_inverted.png', 'frame_48_inverted.png', 'frame_49_inverted.png', 'frame_50_inverted.png', 'frame_51_inverted.png', 'frame_52_inverted.png', 'frame_53_inverted.png', 'frame_54_inverted.png', 'frame_55_inverted.png', 'frame_56_inverted.png', 'frame_57_inverted.png', 'frame_58_inverted.png', 'frame_59_inverted.png']\n"
     ]
    }
   ],
   "source": [
    "print(images)"
   ]
  },
  {
   "cell_type": "code",
   "execution_count": 60,
   "metadata": {},
   "outputs": [],
   "source": [
    "videos_data = {}\n",
    "total_samples = None\n",
    "\n",
    "for folder in os.listdir(os.path.join(data_dir, 'videos_random_gen')):\n",
    "    if folder == '.DS_Store':\n",
    "        continue\n",
    "    \n",
    "    img_folder = os.path.join(data_dir, 'videos_random_gen', folder)\n",
    "    frames = int(len(os.listdir(img_folder))/2)\n",
    "\n",
    "    for i in range(frames):\n",
    "        code = np.load(os.path.join(img_folder,f'frame_{i}_inv.npy'))\n",
    "\n",
    "        if not folder in videos_data.keys():\n",
    "            videos_data[folder] = np.asarray([code])\n",
    "        else:\n",
    "            videos_data[folder] = np.vstack((videos_data[folder], code))\n",
    "\n",
    "        if total_samples is None:\n",
    "            total_samples = np.asarray([code])\n",
    "        else:\n",
    "            total_samples = np.vstack((total_samples, code))\n",
    "\n",
    "\n"
   ]
  },
  {
   "cell_type": "code",
   "execution_count": 61,
   "metadata": {},
   "outputs": [
    {
     "name": "stdout",
     "output_type": "stream",
     "text": [
      "(666, 4096)\n",
      "[(60, 4096), (48, 4096), (50, 4096), (120, 4096), (50, 4096), (120, 4096), (50, 4096), (60, 4096), (48, 4096), (60, 4096)]\n"
     ]
    }
   ],
   "source": [
    "print(total_samples.shape)\n",
    "print([value.shape for value in videos_data.values()])"
   ]
  },
  {
   "cell_type": "code",
   "execution_count": 62,
   "metadata": {},
   "outputs": [
    {
     "name": "stdout",
     "output_type": "stream",
     "text": [
      "[(60, 4096), (48, 4096), (50, 4096), (120, 4096), (50, 4096), (120, 4096), (50, 4096), (60, 4096), (48, 4096), (60, 4096)]\n"
     ]
    }
   ],
   "source": [
    "print([value.shape for value in videos_data.values()])"
   ]
  },
  {
   "cell_type": "code",
   "execution_count": 63,
   "metadata": {},
   "outputs": [],
   "source": [
    "%matplotlib qt\n",
    "fig = plt.figure()\n",
    "\n",
    "for key, value in videos_data.items():\n",
    "    diff = [np.linalg.norm(value[i+1,:]-value[i,:])/value.shape[1] for i in range(value.shape[0]-1)]\n",
    "\n",
    "    plt.plot(np.linspace(0,2,len(diff)),diff, label=key)\n",
    "\n",
    "plt.legend()\n",
    "plt.xlabel('time (seconds)')\n",
    "plt.ylabel('Time derivative in encoded space')\n",
    "plt.show()"
   ]
  },
  {
   "cell_type": "code",
   "execution_count": 64,
   "metadata": {},
   "outputs": [],
   "source": [
    "fig = plt.figure()\n",
    "\n",
    "for key, value in videos_data.items():\n",
    "    theta = [np.arccos(np.dot(value[i+1,:] - value[i,:], value[i,:]-value[i-1,:])/(np.linalg.norm(value[i+1,:] - value[i,:])* np.linalg.norm(value[i,:] - value[i-1,:]))) for i in range(1,value.shape[0]-1)]\n",
    "\n",
    "    plt.plot(np.linspace(0,2,len(theta)),theta, label=key)\n",
    "\n",
    "plt.legend()\n",
    "plt.xlabel('time (seconds)')\n",
    "plt.ylabel('Angle between directions of subsequent frames in encoding space')\n",
    "plt.show()"
   ]
  },
  {
   "cell_type": "code",
   "execution_count": 65,
   "metadata": {},
   "outputs": [],
   "source": [
    "fig = plt.figure()\n",
    "\n",
    "for key, value in videos_data.items():\n",
    "    diff = [np.linalg.norm(value[i,:]-value[0,:])/value.shape[1] for i in range(value.shape[0])]\n",
    "\n",
    "    plt.plot(np.linspace(0,2,len(diff)),diff, label=key)\n",
    "\n",
    "plt.legend()\n",
    "plt.xlabel('time (seconds)')\n",
    "plt.ylabel('distance from original frame in encoded space')\n",
    "plt.show()"
   ]
  },
  {
   "cell_type": "code",
   "execution_count": 66,
   "metadata": {},
   "outputs": [],
   "source": [
    "pca = PCA()\n",
    "\n",
    "pca = pca.fit(total_samples)"
   ]
  },
  {
   "cell_type": "code",
   "execution_count": 67,
   "metadata": {},
   "outputs": [],
   "source": [
    "pca_code = {} \n",
    "\n",
    "for key, value in videos_data.items():\n",
    "\n",
    "    reduced = pca.transform(value)\n",
    "\n",
    "    pca_code[key] = reduced"
   ]
  },
  {
   "cell_type": "code",
   "execution_count": 68,
   "metadata": {},
   "outputs": [
    {
     "name": "stdout",
     "output_type": "stream",
     "text": [
      "[(60, 666), (48, 666), (50, 666), (120, 666), (50, 666), (120, 666), (50, 666), (60, 666), (48, 666), (60, 666)]\n"
     ]
    }
   ],
   "source": [
    "print([value.shape for value in pca_code.values()])"
   ]
  },
  {
   "cell_type": "code",
   "execution_count": 69,
   "metadata": {},
   "outputs": [],
   "source": [
    "fig, axs = plt.subplots(5)\n",
    "\n",
    "code = pca_code['soccer_ball']\n",
    "\n",
    "n_points = code.shape[0]\n",
    "\n",
    "colors = cm.viridis(np.linspace(0,1,n_points))\n",
    "\n",
    "for j in range(n_points-1):\n",
    "    axs[0].scatter(code[j,0], code[j,1], color=colors[j])\n",
    "    axs[1].scatter(code[j,2], code[j,3], color=colors[j])\n",
    "    axs[2].scatter(code[j,4], code[j,5], color=colors[j])\n",
    "    axs[3].scatter(code[j,6], code[j,7], color=colors[j])\n",
    "    axs[4].scatter(code[j,8], code[j,9], color=colors[j])\n",
    "\n",
    "plt.show()\n",
    "\n"
   ]
  },
  {
   "cell_type": "code",
   "execution_count": 53,
   "metadata": {},
   "outputs": [],
   "source": [
    "import matplotlib.pyplot as plt"
   ]
  },
  {
   "cell_type": "code",
   "execution_count": 70,
   "metadata": {},
   "outputs": [],
   "source": [
    "fig = plt.figure()\n",
    "\n",
    "for key, value in pca_code.items():\n",
    "\n",
    "    plt.scatter(value[:,0], value[:,1], label=key)\n",
    "\n",
    "plt.legend()\n",
    "plt.xlabel('PC_dimension 1')\n",
    "plt.ylabel('PC_dimension 2')\n",
    "plt.show()"
   ]
  },
  {
   "cell_type": "code",
   "execution_count": 36,
   "metadata": {},
   "outputs": [],
   "source": [
    "import matplotlib.cm as cm"
   ]
  },
  {
   "cell_type": "code",
   "execution_count": 72,
   "metadata": {},
   "outputs": [],
   "source": [
    "\n",
    "fig = plt.figure()\n",
    "\n",
    "for key, value in pca_code.items():\n",
    "\n",
    "    plt.scatter(value[:,2], value[:,3], label=key)\n",
    "\n",
    "plt.legend()\n",
    "plt.xlabel('PC_dimension 3')\n",
    "plt.ylabel('PC_dimension 4')\n",
    "plt.show()"
   ]
  },
  {
   "cell_type": "code",
   "execution_count": 73,
   "metadata": {},
   "outputs": [],
   "source": [
    "\n",
    "fig = plt.figure()\n",
    "\n",
    "for key, value in pca_code.items():\n",
    "\n",
    "    plt.scatter(value[:,4], value[:,5], label=key)\n",
    "\n",
    "plt.legend()\n",
    "plt.xlabel('PC_dimension 5')\n",
    "plt.ylabel('PC_dimension 6')\n",
    "plt.show()"
   ]
  },
  {
   "cell_type": "code",
   "execution_count": null,
   "metadata": {},
   "outputs": [],
   "source": []
  }
 ],
 "metadata": {
  "kernelspec": {
   "display_name": "ponce",
   "language": "python",
   "name": "python3"
  },
  "language_info": {
   "codemirror_mode": {
    "name": "ipython",
    "version": 3
   },
   "file_extension": ".py",
   "mimetype": "text/x-python",
   "name": "python",
   "nbconvert_exporter": "python",
   "pygments_lexer": "ipython3",
   "version": "3.12.5"
  }
 },
 "nbformat": 4,
 "nbformat_minor": 2
}
